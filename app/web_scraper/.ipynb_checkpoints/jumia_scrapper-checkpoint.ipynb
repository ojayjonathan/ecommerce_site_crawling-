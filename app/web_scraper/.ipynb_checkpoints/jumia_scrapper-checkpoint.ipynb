{
 "cells": [
  {
   "cell_type": "code",
   "execution_count": 4,
   "metadata": {},
   "outputs": [],
   "source": [
    "import requests\n",
    "from bs4 import BeautifulSoup\n",
    "import math\n",
    "import time\n",
    "from config import get_chrome_driver\n",
    "from utils import fillForm, ProductSerializer\n",
    "import pandas as pd"
   ]
  },
  {
   "cell_type": "code",
   "execution_count": 5,
   "metadata": {},
   "outputs": [],
   "source": [
    "driver = get_chrome_driver()"
   ]
  },
  {
   "cell_type": "code",
   "execution_count": 6,
   "metadata": {},
   "outputs": [],
   "source": [
    "def jumiaLogin(driver,email_address, user_password):\n",
    "    url = 'https://www.jumia.co.ke/customer/account/login/'\n",
    "    driver.get(url)\n",
    "    time.sleep(5)\n",
    "    create_acount =  driver.find_element_by_css_selector('a.btn._prim._i.-mtxl')\n",
    "    time.sleep(2)\n",
    "    create_acount.click()\n",
    "    time.sleep(3)\n",
    "    driver.back()\n",
    "    time.sleep(10)\n",
    "    email = driver.find_element_by_name(\"email\")\n",
    "    password = driver.find_element_by_name(\"password\")\n",
    "    login_btn = driver.find_element_by_css_selector('button.btn._prim._i.-mts')\n",
    "    email.clear()\n",
    "    time.sleep(2)\n",
    "    password.clear()\n",
    "    fillForm(email, email_address)\n",
    "    time.sleep(6)\n",
    "    fillForm(password,user_password)\n",
    "    time.sleep(6)\n",
    "    login_btn.click()"
   ]
  },
  {
   "cell_type": "code",
   "execution_count": 7,
   "metadata": {},
   "outputs": [],
   "source": [
    "def get_resource(url, parameters, timeout=None):\n",
    "    if timeout:\n",
    "        html_string = requests.get(url,params=parameters,timeout=timeout)\n",
    "    else:\n",
    "        html_string = requests.get(url, params=parameters)\n",
    "    return html_string\n",
    "class JumiaScrapper():\n",
    "    def __init__(self, search_timeout=None):\n",
    "        #search_parameters => dict object (q,page_number,filters,*kwargs)\n",
    "        #jumia search url \n",
    "        self.url = 'https://www.jumia.co.ke/catalog/'\n",
    "        self.search_timeout=search_timeout\n",
    "        self.items_found = 0\n",
    "        self.pages_found = 0\n",
    "        self.dataframe = pd.DataFrame(columns=['item_link','prev_price', 'product_name',\n",
    "                                               'review', 'image_path','rating','price', 'per_discount'])\n",
    "        \n",
    "    def call(self,filter_parameters,page_number='page_1'):\n",
    "        html_string =get_resource(self.url, parameters=filter_parameters, timeout=self.search_timeout)\n",
    "        soup = BeautifulSoup(html_string.text, 'lxml')\n",
    "        title = soup.title.text.split('-')[0]\n",
    "        articles= soup.find_all('article')  \n",
    "        print(html_string.url)\n",
    "        for i, article in enumerate(articles):\n",
    "            item_link,prev_price, product_name, review, image_path,rating,price, per_discount =None, None, None,0, None, '0 out of 5', None, None\n",
    "            try:\n",
    "                price=article.find(class_='prc').text\n",
    "            except:\n",
    "                price=''\n",
    "            if price != '':\n",
    "                    item_link = ('https://www.jumia.co.ke{}').format(article.a['href'])\n",
    "                    product_name = article.find(class_='name').text\n",
    "                    try:\n",
    "                        image_path=article.find('img')['data-src']\n",
    "                        prev_price =  article.find(class_='old').text\n",
    "                        per_discount = article.find(class_='tag _dsct _sm').text\n",
    "                        review_info = article.find(class_='rev').text\n",
    "                        rating = review_info.split('(')[0]\n",
    "                        review = review_info.split('(')[-1].split(')')[0]\n",
    "                    except:\n",
    "                        pass\n",
    "                    if prev_price == None:\n",
    "                        prev_price=price\n",
    "                        per_discount='0%'\n",
    "\n",
    "                    item_data = ProductSerializer(name=product_name,item_link=item_link, \n",
    "                                                  image_path=image_path, price=price, \n",
    "                                                  prev_price=prev_price, item_reviews=review,rating=rating, per_discount=per_discount)\n",
    "                    self.dataframe.append(item_data,  ignore_index=True)\n",
    "                    #data.append(item_data) \n",
    "        if page_number=='page_1':\n",
    "            items_found = soup.body.find(class_=\"-fs14 -gy5 -phs\").text\n",
    "            self.items_found = int(items_found.split(' ',1)[0])\n",
    "            print(self.items_found, 'items found')\n",
    "            self.pages_found =  math.ceil(self.items_found/len(data)) \n",
    "            if self.url != html_string.url.split('?')[0]:\n",
    "                self.url = html_string.url\n",
    "                del filter_parameters['q']\n",
    "                print(html_string.url)\n",
    "       \n",
    "        return title,  self.pages_found\n",
    "    def get_result(self, filter_parameters, max_number_pages=5):\n",
    "        title, num_pages = self.call(filter_parameters)\n",
    "        for i in range(2,max_number_pages+1):\n",
    "            if i<=num_pages:\n",
    "                filter_parameters['page']=i\n",
    "                _, _ = self.call(filter_parameters,page_number='page_{}'.format(i))\n",
    "        return {'title':title,'items_found':self.items_found,'pages_loaded':max_number_pages,\n",
    "                'dataframe':self.dataframe}          "
   ]
  },
  {
   "cell_type": "code",
   "execution_count": null,
   "metadata": {},
   "outputs": [],
   "source": [
    "jumiascrapper = JumiaScrapper()\n",
    "jumia_result = jumiascrapper.get_result(filter_parameters={'q':'tv'},max_number_pages=4)"
   ]
  },
  {
   "cell_type": "code",
   "execution_count": 4,
   "metadata": {},
   "outputs": [],
   "source": [
    "import pandas as pd\n",
    "df = pd.DataFrame(columns=['age','name','year'])"
   ]
  },
  {
   "cell_type": "code",
   "execution_count": 11,
   "metadata": {},
   "outputs": [],
   "source": [
    "df = df.append({'age':'24','name':'ojay','year':'1999'}, ignore_index=True)"
   ]
  },
  {
   "cell_type": "code",
   "execution_count": 12,
   "metadata": {},
   "outputs": [
    {
     "data": {
      "text/html": [
       "<div>\n",
       "<style scoped>\n",
       "    .dataframe tbody tr th:only-of-type {\n",
       "        vertical-align: middle;\n",
       "    }\n",
       "\n",
       "    .dataframe tbody tr th {\n",
       "        vertical-align: top;\n",
       "    }\n",
       "\n",
       "    .dataframe thead th {\n",
       "        text-align: right;\n",
       "    }\n",
       "</style>\n",
       "<table border=\"1\" class=\"dataframe\">\n",
       "  <thead>\n",
       "    <tr style=\"text-align: right;\">\n",
       "      <th></th>\n",
       "      <th>age</th>\n",
       "      <th>name</th>\n",
       "      <th>year</th>\n",
       "    </tr>\n",
       "  </thead>\n",
       "  <tbody>\n",
       "    <tr>\n",
       "      <td>0</td>\n",
       "      <td>24</td>\n",
       "      <td>ojay</td>\n",
       "      <td>1999</td>\n",
       "    </tr>\n",
       "    <tr>\n",
       "      <td>1</td>\n",
       "      <td>24</td>\n",
       "      <td>ojay</td>\n",
       "      <td>1999</td>\n",
       "    </tr>\n",
       "  </tbody>\n",
       "</table>\n",
       "</div>"
      ],
      "text/plain": [
       "  age  name  year\n",
       "0  24  ojay  1999\n",
       "1  24  ojay  1999"
      ]
     },
     "execution_count": 12,
     "metadata": {},
     "output_type": "execute_result"
    }
   ],
   "source": [
    "df"
   ]
  },
  {
   "cell_type": "code",
   "execution_count": null,
   "metadata": {},
   "outputs": [],
   "source": []
  }
 ],
 "metadata": {
  "kernelspec": {
   "display_name": "Python 3",
   "language": "python",
   "name": "python3"
  },
  "language_info": {
   "codemirror_mode": {
    "name": "ipython",
    "version": 3
   },
   "file_extension": ".py",
   "mimetype": "text/x-python",
   "name": "python",
   "nbconvert_exporter": "python",
   "pygments_lexer": "ipython3",
   "version": "3.7.4"
  }
 },
 "nbformat": 4,
 "nbformat_minor": 2
}
